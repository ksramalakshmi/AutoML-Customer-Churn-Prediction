{
  "nbformat": 4,
  "nbformat_minor": 0,
  "metadata": {
    "colab": {
      "provenance": []
    },
    "kernelspec": {
      "name": "python3",
      "display_name": "Python 3"
    },
    "language_info": {
      "name": "python"
    }
  },
  "cells": [
    {
      "cell_type": "code",
      "execution_count": 1,
      "metadata": {
        "colab": {
          "base_uri": "https://localhost:8080/"
        },
        "id": "ZCL5pTsQv9L3",
        "outputId": "d3e4668d-237d-4c8b-eb7d-d3afa338ba41"
      },
      "outputs": [
        {
          "output_type": "stream",
          "name": "stdout",
          "text": [
            "Looking in indexes: https://pypi.org/simple, https://us-python.pkg.dev/colab-wheels/public/simple/\n",
            "Requirement already satisfied: auto-sklearn in /usr/local/lib/python3.8/dist-packages (0.15.0)\n",
            "Requirement already satisfied: typing-extensions in /usr/local/lib/python3.8/dist-packages (from auto-sklearn) (4.5.0)\n",
            "Requirement already satisfied: threadpoolctl in /usr/local/lib/python3.8/dist-packages (from auto-sklearn) (3.1.0)\n",
            "Requirement already satisfied: setuptools in /usr/local/lib/python3.8/dist-packages (from auto-sklearn) (57.4.0)\n",
            "Requirement already satisfied: joblib in /usr/local/lib/python3.8/dist-packages (from auto-sklearn) (1.2.0)\n",
            "Requirement already satisfied: ConfigSpace<0.5,>=0.4.21 in /usr/local/lib/python3.8/dist-packages (from auto-sklearn) (0.4.21)\n",
            "Requirement already satisfied: pyyaml in /usr/local/lib/python3.8/dist-packages (from auto-sklearn) (6.0)\n",
            "Requirement already satisfied: liac-arff in /usr/local/lib/python3.8/dist-packages (from auto-sklearn) (2.5.0)\n",
            "Requirement already satisfied: distro in /usr/local/lib/python3.8/dist-packages (from auto-sklearn) (1.8.0)\n",
            "Requirement already satisfied: pyrfr<0.9,>=0.8.1 in /usr/local/lib/python3.8/dist-packages (from auto-sklearn) (0.8.3)\n",
            "Requirement already satisfied: scikit-learn<0.25.0,>=0.24.0 in /usr/local/lib/python3.8/dist-packages (from auto-sklearn) (0.24.2)\n",
            "Requirement already satisfied: distributed>=2012.12 in /usr/local/lib/python3.8/dist-packages (from auto-sklearn) (2022.2.1)\n",
            "Requirement already satisfied: pandas>=1.0 in /usr/local/lib/python3.8/dist-packages (from auto-sklearn) (1.3.5)\n",
            "Requirement already satisfied: pynisher<0.7,>=0.6.3 in /usr/local/lib/python3.8/dist-packages (from auto-sklearn) (0.6.4)\n",
            "Requirement already satisfied: scipy>=1.7.0 in /usr/local/lib/python3.8/dist-packages (from auto-sklearn) (1.10.1)\n",
            "Requirement already satisfied: smac<1.3,>=1.2 in /usr/local/lib/python3.8/dist-packages (from auto-sklearn) (1.2)\n",
            "Requirement already satisfied: numpy>=1.9.0 in /usr/local/lib/python3.8/dist-packages (from auto-sklearn) (1.22.4)\n",
            "Requirement already satisfied: dask>=2021.12 in /usr/local/lib/python3.8/dist-packages (from auto-sklearn) (2022.2.1)\n",
            "Requirement already satisfied: pyparsing in /usr/local/lib/python3.8/dist-packages (from ConfigSpace<0.5,>=0.4.21->auto-sklearn) (3.0.9)\n",
            "Requirement already satisfied: cython in /usr/local/lib/python3.8/dist-packages (from ConfigSpace<0.5,>=0.4.21->auto-sklearn) (0.29.33)\n",
            "Requirement already satisfied: partd>=0.3.10 in /usr/local/lib/python3.8/dist-packages (from dask>=2021.12->auto-sklearn) (1.3.0)\n",
            "Requirement already satisfied: cloudpickle>=1.1.1 in /usr/local/lib/python3.8/dist-packages (from dask>=2021.12->auto-sklearn) (2.2.1)\n",
            "Requirement already satisfied: fsspec>=0.6.0 in /usr/local/lib/python3.8/dist-packages (from dask>=2021.12->auto-sklearn) (2023.1.0)\n",
            "Requirement already satisfied: toolz>=0.8.2 in /usr/local/lib/python3.8/dist-packages (from dask>=2021.12->auto-sklearn) (0.12.0)\n",
            "Requirement already satisfied: packaging>=20.0 in /usr/local/lib/python3.8/dist-packages (from dask>=2021.12->auto-sklearn) (23.0)\n",
            "Requirement already satisfied: jinja2 in /usr/local/lib/python3.8/dist-packages (from distributed>=2012.12->auto-sklearn) (2.11.3)\n",
            "Requirement already satisfied: tblib>=1.6.0 in /usr/local/lib/python3.8/dist-packages (from distributed>=2012.12->auto-sklearn) (1.7.0)\n",
            "Requirement already satisfied: msgpack>=0.6.0 in /usr/local/lib/python3.8/dist-packages (from distributed>=2012.12->auto-sklearn) (1.0.4)\n",
            "Requirement already satisfied: tornado>=6.0.3 in /usr/local/lib/python3.8/dist-packages (from distributed>=2012.12->auto-sklearn) (6.2)\n",
            "Requirement already satisfied: sortedcontainers!=2.0.0,!=2.0.1 in /usr/local/lib/python3.8/dist-packages (from distributed>=2012.12->auto-sklearn) (2.4.0)\n",
            "Requirement already satisfied: psutil>=5.0 in /usr/local/lib/python3.8/dist-packages (from distributed>=2012.12->auto-sklearn) (5.4.8)\n",
            "Requirement already satisfied: zict>=0.1.3 in /usr/local/lib/python3.8/dist-packages (from distributed>=2012.12->auto-sklearn) (2.2.0)\n",
            "Requirement already satisfied: click>=6.6 in /usr/local/lib/python3.8/dist-packages (from distributed>=2012.12->auto-sklearn) (7.1.2)\n",
            "Requirement already satisfied: python-dateutil>=2.7.3 in /usr/local/lib/python3.8/dist-packages (from pandas>=1.0->auto-sklearn) (2.8.2)\n",
            "Requirement already satisfied: pytz>=2017.3 in /usr/local/lib/python3.8/dist-packages (from pandas>=1.0->auto-sklearn) (2022.7.1)\n",
            "Requirement already satisfied: emcee>=3.0.0 in /usr/local/lib/python3.8/dist-packages (from smac<1.3,>=1.2->auto-sklearn) (3.1.4)\n",
            "Requirement already satisfied: locket in /usr/local/lib/python3.8/dist-packages (from partd>=0.3.10->dask>=2021.12->auto-sklearn) (1.0.0)\n",
            "Requirement already satisfied: six>=1.5 in /usr/local/lib/python3.8/dist-packages (from python-dateutil>=2.7.3->pandas>=1.0->auto-sklearn) (1.15.0)\n",
            "Requirement already satisfied: heapdict in /usr/local/lib/python3.8/dist-packages (from zict>=0.1.3->distributed>=2012.12->auto-sklearn) (1.0.1)\n",
            "Requirement already satisfied: MarkupSafe>=0.23 in /usr/local/lib/python3.8/dist-packages (from jinja2->distributed>=2012.12->auto-sklearn) (2.0.1)\n"
          ]
        }
      ],
      "source": [
        "!pip install auto-sklearn"
      ]
    },
    {
      "cell_type": "code",
      "source": [
        "!pip install --upgrade scipy"
      ],
      "metadata": {
        "colab": {
          "base_uri": "https://localhost:8080/"
        },
        "id": "FBa9QRYWzfIq",
        "outputId": "b4074e3e-dc85-4a48-a678-8f4d2c9481d4"
      },
      "execution_count": 2,
      "outputs": [
        {
          "output_type": "stream",
          "name": "stdout",
          "text": [
            "Looking in indexes: https://pypi.org/simple, https://us-python.pkg.dev/colab-wheels/public/simple/\n",
            "Requirement already satisfied: scipy in /usr/local/lib/python3.8/dist-packages (1.10.1)\n",
            "Requirement already satisfied: numpy<1.27.0,>=1.19.5 in /usr/local/lib/python3.8/dist-packages (from scipy) (1.22.4)\n"
          ]
        }
      ]
    },
    {
      "cell_type": "code",
      "source": [
        "from google.colab import drive\n",
        "drive.mount('/content/mydrive')"
      ],
      "metadata": {
        "colab": {
          "base_uri": "https://localhost:8080/"
        },
        "id": "SiOk_x9wwYeW",
        "outputId": "1343a955-e5c9-4acd-838a-1d9e03a73175"
      },
      "execution_count": 3,
      "outputs": [
        {
          "output_type": "stream",
          "name": "stdout",
          "text": [
            "Drive already mounted at /content/mydrive; to attempt to forcibly remount, call drive.mount(\"/content/mydrive\", force_remount=True).\n"
          ]
        }
      ]
    },
    {
      "cell_type": "code",
      "source": [
        "import pandas as pd\n",
        "import numpy as np\n",
        "import matplotlib.pyplot as plt\n",
        "import seaborn as sns\n",
        "from sklearn.model_selection import train_test_split\n",
        "import autosklearn.classification"
      ],
      "metadata": {
        "id": "PKuSbEKuwH0p"
      },
      "execution_count": 25,
      "outputs": []
    },
    {
      "cell_type": "code",
      "source": [
        "df=pd.read_csv('/content/mydrive/MyDrive/AutoML/customer_churn.csv')\n",
        "df.head()"
      ],
      "metadata": {
        "colab": {
          "base_uri": "https://localhost:8080/",
          "height": 438
        },
        "id": "OsP54oiJxC2F",
        "outputId": "480fdf2f-2343-41ea-ddeb-9a62bf43f750"
      },
      "execution_count": 5,
      "outputs": [
        {
          "output_type": "execute_result",
          "data": {
            "text/plain": [
              "   CustomerID  Count        Country       State         City  Zip Code  \\\n",
              "0  3668-QPYBK      1  United States  California  Los Angeles     90003   \n",
              "1  9237-HQITU      1  United States  California  Los Angeles     90005   \n",
              "2  9305-CDSKC      1  United States  California  Los Angeles     90006   \n",
              "3  7892-POOKP      1  United States  California  Los Angeles     90010   \n",
              "4  0280-XJGEX      1  United States  California  Los Angeles     90015   \n",
              "\n",
              "                 Lat Long   Latitude   Longitude  Gender  ...        Contract  \\\n",
              "0  33.964131, -118.272783  33.964131 -118.272783    Male  ...  Month-to-month   \n",
              "1   34.059281, -118.30742  34.059281 -118.307420  Female  ...  Month-to-month   \n",
              "2  34.048013, -118.293953  34.048013 -118.293953  Female  ...  Month-to-month   \n",
              "3  34.062125, -118.315709  34.062125 -118.315709  Female  ...  Month-to-month   \n",
              "4  34.039224, -118.266293  34.039224 -118.266293    Male  ...  Month-to-month   \n",
              "\n",
              "  Paperless Billing             Payment Method  Monthly Charges Total Charges  \\\n",
              "0               Yes               Mailed check            53.85        108.15   \n",
              "1               Yes           Electronic check            70.70        151.65   \n",
              "2               Yes           Electronic check            99.65         820.5   \n",
              "3               Yes           Electronic check           104.80       3046.05   \n",
              "4               Yes  Bank transfer (automatic)           103.70        5036.3   \n",
              "\n",
              "  Churn Label Churn Value Churn Score  CLTV                   Churn Reason  \n",
              "0         Yes           1          86  3239   Competitor made better offer  \n",
              "1         Yes           1          67  2701                          Moved  \n",
              "2         Yes           1          86  5372                          Moved  \n",
              "3         Yes           1          84  5003                          Moved  \n",
              "4         Yes           1          89  5340  Competitor had better devices  \n",
              "\n",
              "[5 rows x 33 columns]"
            ],
            "text/html": [
              "\n",
              "  <div id=\"df-ca01c8f9-6cbb-4e63-a4cb-3a623ad636f0\">\n",
              "    <div class=\"colab-df-container\">\n",
              "      <div>\n",
              "<style scoped>\n",
              "    .dataframe tbody tr th:only-of-type {\n",
              "        vertical-align: middle;\n",
              "    }\n",
              "\n",
              "    .dataframe tbody tr th {\n",
              "        vertical-align: top;\n",
              "    }\n",
              "\n",
              "    .dataframe thead th {\n",
              "        text-align: right;\n",
              "    }\n",
              "</style>\n",
              "<table border=\"1\" class=\"dataframe\">\n",
              "  <thead>\n",
              "    <tr style=\"text-align: right;\">\n",
              "      <th></th>\n",
              "      <th>CustomerID</th>\n",
              "      <th>Count</th>\n",
              "      <th>Country</th>\n",
              "      <th>State</th>\n",
              "      <th>City</th>\n",
              "      <th>Zip Code</th>\n",
              "      <th>Lat Long</th>\n",
              "      <th>Latitude</th>\n",
              "      <th>Longitude</th>\n",
              "      <th>Gender</th>\n",
              "      <th>...</th>\n",
              "      <th>Contract</th>\n",
              "      <th>Paperless Billing</th>\n",
              "      <th>Payment Method</th>\n",
              "      <th>Monthly Charges</th>\n",
              "      <th>Total Charges</th>\n",
              "      <th>Churn Label</th>\n",
              "      <th>Churn Value</th>\n",
              "      <th>Churn Score</th>\n",
              "      <th>CLTV</th>\n",
              "      <th>Churn Reason</th>\n",
              "    </tr>\n",
              "  </thead>\n",
              "  <tbody>\n",
              "    <tr>\n",
              "      <th>0</th>\n",
              "      <td>3668-QPYBK</td>\n",
              "      <td>1</td>\n",
              "      <td>United States</td>\n",
              "      <td>California</td>\n",
              "      <td>Los Angeles</td>\n",
              "      <td>90003</td>\n",
              "      <td>33.964131, -118.272783</td>\n",
              "      <td>33.964131</td>\n",
              "      <td>-118.272783</td>\n",
              "      <td>Male</td>\n",
              "      <td>...</td>\n",
              "      <td>Month-to-month</td>\n",
              "      <td>Yes</td>\n",
              "      <td>Mailed check</td>\n",
              "      <td>53.85</td>\n",
              "      <td>108.15</td>\n",
              "      <td>Yes</td>\n",
              "      <td>1</td>\n",
              "      <td>86</td>\n",
              "      <td>3239</td>\n",
              "      <td>Competitor made better offer</td>\n",
              "    </tr>\n",
              "    <tr>\n",
              "      <th>1</th>\n",
              "      <td>9237-HQITU</td>\n",
              "      <td>1</td>\n",
              "      <td>United States</td>\n",
              "      <td>California</td>\n",
              "      <td>Los Angeles</td>\n",
              "      <td>90005</td>\n",
              "      <td>34.059281, -118.30742</td>\n",
              "      <td>34.059281</td>\n",
              "      <td>-118.307420</td>\n",
              "      <td>Female</td>\n",
              "      <td>...</td>\n",
              "      <td>Month-to-month</td>\n",
              "      <td>Yes</td>\n",
              "      <td>Electronic check</td>\n",
              "      <td>70.70</td>\n",
              "      <td>151.65</td>\n",
              "      <td>Yes</td>\n",
              "      <td>1</td>\n",
              "      <td>67</td>\n",
              "      <td>2701</td>\n",
              "      <td>Moved</td>\n",
              "    </tr>\n",
              "    <tr>\n",
              "      <th>2</th>\n",
              "      <td>9305-CDSKC</td>\n",
              "      <td>1</td>\n",
              "      <td>United States</td>\n",
              "      <td>California</td>\n",
              "      <td>Los Angeles</td>\n",
              "      <td>90006</td>\n",
              "      <td>34.048013, -118.293953</td>\n",
              "      <td>34.048013</td>\n",
              "      <td>-118.293953</td>\n",
              "      <td>Female</td>\n",
              "      <td>...</td>\n",
              "      <td>Month-to-month</td>\n",
              "      <td>Yes</td>\n",
              "      <td>Electronic check</td>\n",
              "      <td>99.65</td>\n",
              "      <td>820.5</td>\n",
              "      <td>Yes</td>\n",
              "      <td>1</td>\n",
              "      <td>86</td>\n",
              "      <td>5372</td>\n",
              "      <td>Moved</td>\n",
              "    </tr>\n",
              "    <tr>\n",
              "      <th>3</th>\n",
              "      <td>7892-POOKP</td>\n",
              "      <td>1</td>\n",
              "      <td>United States</td>\n",
              "      <td>California</td>\n",
              "      <td>Los Angeles</td>\n",
              "      <td>90010</td>\n",
              "      <td>34.062125, -118.315709</td>\n",
              "      <td>34.062125</td>\n",
              "      <td>-118.315709</td>\n",
              "      <td>Female</td>\n",
              "      <td>...</td>\n",
              "      <td>Month-to-month</td>\n",
              "      <td>Yes</td>\n",
              "      <td>Electronic check</td>\n",
              "      <td>104.80</td>\n",
              "      <td>3046.05</td>\n",
              "      <td>Yes</td>\n",
              "      <td>1</td>\n",
              "      <td>84</td>\n",
              "      <td>5003</td>\n",
              "      <td>Moved</td>\n",
              "    </tr>\n",
              "    <tr>\n",
              "      <th>4</th>\n",
              "      <td>0280-XJGEX</td>\n",
              "      <td>1</td>\n",
              "      <td>United States</td>\n",
              "      <td>California</td>\n",
              "      <td>Los Angeles</td>\n",
              "      <td>90015</td>\n",
              "      <td>34.039224, -118.266293</td>\n",
              "      <td>34.039224</td>\n",
              "      <td>-118.266293</td>\n",
              "      <td>Male</td>\n",
              "      <td>...</td>\n",
              "      <td>Month-to-month</td>\n",
              "      <td>Yes</td>\n",
              "      <td>Bank transfer (automatic)</td>\n",
              "      <td>103.70</td>\n",
              "      <td>5036.3</td>\n",
              "      <td>Yes</td>\n",
              "      <td>1</td>\n",
              "      <td>89</td>\n",
              "      <td>5340</td>\n",
              "      <td>Competitor had better devices</td>\n",
              "    </tr>\n",
              "  </tbody>\n",
              "</table>\n",
              "<p>5 rows × 33 columns</p>\n",
              "</div>\n",
              "      <button class=\"colab-df-convert\" onclick=\"convertToInteractive('df-ca01c8f9-6cbb-4e63-a4cb-3a623ad636f0')\"\n",
              "              title=\"Convert this dataframe to an interactive table.\"\n",
              "              style=\"display:none;\">\n",
              "        \n",
              "  <svg xmlns=\"http://www.w3.org/2000/svg\" height=\"24px\"viewBox=\"0 0 24 24\"\n",
              "       width=\"24px\">\n",
              "    <path d=\"M0 0h24v24H0V0z\" fill=\"none\"/>\n",
              "    <path d=\"M18.56 5.44l.94 2.06.94-2.06 2.06-.94-2.06-.94-.94-2.06-.94 2.06-2.06.94zm-11 1L8.5 8.5l.94-2.06 2.06-.94-2.06-.94L8.5 2.5l-.94 2.06-2.06.94zm10 10l.94 2.06.94-2.06 2.06-.94-2.06-.94-.94-2.06-.94 2.06-2.06.94z\"/><path d=\"M17.41 7.96l-1.37-1.37c-.4-.4-.92-.59-1.43-.59-.52 0-1.04.2-1.43.59L10.3 9.45l-7.72 7.72c-.78.78-.78 2.05 0 2.83L4 21.41c.39.39.9.59 1.41.59.51 0 1.02-.2 1.41-.59l7.78-7.78 2.81-2.81c.8-.78.8-2.07 0-2.86zM5.41 20L4 18.59l7.72-7.72 1.47 1.35L5.41 20z\"/>\n",
              "  </svg>\n",
              "      </button>\n",
              "      \n",
              "  <style>\n",
              "    .colab-df-container {\n",
              "      display:flex;\n",
              "      flex-wrap:wrap;\n",
              "      gap: 12px;\n",
              "    }\n",
              "\n",
              "    .colab-df-convert {\n",
              "      background-color: #E8F0FE;\n",
              "      border: none;\n",
              "      border-radius: 50%;\n",
              "      cursor: pointer;\n",
              "      display: none;\n",
              "      fill: #1967D2;\n",
              "      height: 32px;\n",
              "      padding: 0 0 0 0;\n",
              "      width: 32px;\n",
              "    }\n",
              "\n",
              "    .colab-df-convert:hover {\n",
              "      background-color: #E2EBFA;\n",
              "      box-shadow: 0px 1px 2px rgba(60, 64, 67, 0.3), 0px 1px 3px 1px rgba(60, 64, 67, 0.15);\n",
              "      fill: #174EA6;\n",
              "    }\n",
              "\n",
              "    [theme=dark] .colab-df-convert {\n",
              "      background-color: #3B4455;\n",
              "      fill: #D2E3FC;\n",
              "    }\n",
              "\n",
              "    [theme=dark] .colab-df-convert:hover {\n",
              "      background-color: #434B5C;\n",
              "      box-shadow: 0px 1px 3px 1px rgba(0, 0, 0, 0.15);\n",
              "      filter: drop-shadow(0px 1px 2px rgba(0, 0, 0, 0.3));\n",
              "      fill: #FFFFFF;\n",
              "    }\n",
              "  </style>\n",
              "\n",
              "      <script>\n",
              "        const buttonEl =\n",
              "          document.querySelector('#df-ca01c8f9-6cbb-4e63-a4cb-3a623ad636f0 button.colab-df-convert');\n",
              "        buttonEl.style.display =\n",
              "          google.colab.kernel.accessAllowed ? 'block' : 'none';\n",
              "\n",
              "        async function convertToInteractive(key) {\n",
              "          const element = document.querySelector('#df-ca01c8f9-6cbb-4e63-a4cb-3a623ad636f0');\n",
              "          const dataTable =\n",
              "            await google.colab.kernel.invokeFunction('convertToInteractive',\n",
              "                                                     [key], {});\n",
              "          if (!dataTable) return;\n",
              "\n",
              "          const docLinkHtml = 'Like what you see? Visit the ' +\n",
              "            '<a target=\"_blank\" href=https://colab.research.google.com/notebooks/data_table.ipynb>data table notebook</a>'\n",
              "            + ' to learn more about interactive tables.';\n",
              "          element.innerHTML = '';\n",
              "          dataTable['output_type'] = 'display_data';\n",
              "          await google.colab.output.renderOutput(dataTable, element);\n",
              "          const docLink = document.createElement('div');\n",
              "          docLink.innerHTML = docLinkHtml;\n",
              "          element.appendChild(docLink);\n",
              "        }\n",
              "      </script>\n",
              "    </div>\n",
              "  </div>\n",
              "  "
            ]
          },
          "metadata": {},
          "execution_count": 5
        }
      ]
    },
    {
      "cell_type": "code",
      "source": [
        "df.dtypes"
      ],
      "metadata": {
        "colab": {
          "base_uri": "https://localhost:8080/"
        },
        "id": "m-cMhfHT1_BW",
        "outputId": "9766bb76-0a64-49d2-9bcf-961faeaf9091"
      },
      "execution_count": 6,
      "outputs": [
        {
          "output_type": "execute_result",
          "data": {
            "text/plain": [
              "CustomerID            object\n",
              "Count                  int64\n",
              "Country               object\n",
              "State                 object\n",
              "City                  object\n",
              "Zip Code               int64\n",
              "Lat Long              object\n",
              "Latitude             float64\n",
              "Longitude            float64\n",
              "Gender                object\n",
              "Senior Citizen        object\n",
              "Partner               object\n",
              "Dependents            object\n",
              "Tenure Months          int64\n",
              "Phone Service         object\n",
              "Multiple Lines        object\n",
              "Internet Service      object\n",
              "Online Security       object\n",
              "Online Backup         object\n",
              "Device Protection     object\n",
              "Tech Support          object\n",
              "Streaming TV          object\n",
              "Streaming Movies      object\n",
              "Contract              object\n",
              "Paperless Billing     object\n",
              "Payment Method        object\n",
              "Monthly Charges      float64\n",
              "Total Charges         object\n",
              "Churn Label           object\n",
              "Churn Value            int64\n",
              "Churn Score            int64\n",
              "CLTV                   int64\n",
              "Churn Reason          object\n",
              "dtype: object"
            ]
          },
          "metadata": {},
          "execution_count": 6
        }
      ]
    },
    {
      "cell_type": "code",
      "source": [
        "df.isna().sum()"
      ],
      "metadata": {
        "colab": {
          "base_uri": "https://localhost:8080/"
        },
        "id": "2xS_50Ak3u2e",
        "outputId": "d1ea2a9b-3d06-4b09-866c-114717d45163"
      },
      "execution_count": 7,
      "outputs": [
        {
          "output_type": "execute_result",
          "data": {
            "text/plain": [
              "CustomerID              0\n",
              "Count                   0\n",
              "Country                 0\n",
              "State                   0\n",
              "City                    0\n",
              "Zip Code                0\n",
              "Lat Long                0\n",
              "Latitude                0\n",
              "Longitude               0\n",
              "Gender                  0\n",
              "Senior Citizen          0\n",
              "Partner                 0\n",
              "Dependents              0\n",
              "Tenure Months           0\n",
              "Phone Service           0\n",
              "Multiple Lines          0\n",
              "Internet Service        0\n",
              "Online Security         0\n",
              "Online Backup           0\n",
              "Device Protection       0\n",
              "Tech Support            0\n",
              "Streaming TV            0\n",
              "Streaming Movies        0\n",
              "Contract                0\n",
              "Paperless Billing       0\n",
              "Payment Method          0\n",
              "Monthly Charges         0\n",
              "Total Charges           0\n",
              "Churn Label             0\n",
              "Churn Value             0\n",
              "Churn Score             0\n",
              "CLTV                    0\n",
              "Churn Reason         5174\n",
              "dtype: int64"
            ]
          },
          "metadata": {},
          "execution_count": 7
        }
      ]
    },
    {
      "cell_type": "code",
      "source": [
        "#Handling binary data\n",
        "cols = ['Gender', 'Senior Citizen', 'Partner', 'Dependents', 'Phone Service', 'Paperless Billing']\n",
        "for i in cols:\n",
        "  encoded = pd.get_dummies(df[i])\n",
        "  df = pd.concat((df, encoded), axis=1)\n",
        "  df.drop([i], axis=1, inplace=True)\n",
        "  if i == 'Gender':\n",
        "    df.drop([\"Male\"], axis=1, inplace=True)\n",
        "    df.rename(columns={\"Female\": i}, inplace=True)\n",
        "  else:\n",
        "    df.drop([\"No\"], axis=1, inplace=True)\n",
        "    df.rename(columns={\"Yes\": i}, inplace=True)"
      ],
      "metadata": {
        "id": "az8rj_0d7qBn"
      },
      "execution_count": 8,
      "outputs": []
    },
    {
      "cell_type": "code",
      "source": [
        "#Handling City values\n",
        "encoded = pd.get_dummies(df['City'])\n",
        "df = pd.concat((df, encoded), axis=1)\n",
        "df.drop(['City'], axis=1, inplace=True)\n",
        "df.columns"
      ],
      "metadata": {
        "colab": {
          "base_uri": "https://localhost:8080/"
        },
        "id": "HeBxJnBz-4we",
        "outputId": "654a402d-8eee-44f0-bd83-42fc664f2ca5"
      },
      "execution_count": 10,
      "outputs": [
        {
          "output_type": "execute_result",
          "data": {
            "text/plain": [
              "Index(['CustomerID', 'Count', 'Country', 'State', 'Zip Code', 'Lat Long',\n",
              "       'Latitude', 'Longitude', 'Tenure Months', 'Multiple Lines',\n",
              "       ...\n",
              "       'Yermo', 'Yorba Linda', 'Yorkville', 'Yosemite National Park',\n",
              "       'Yountville', 'Yreka', 'Yuba City', 'Yucaipa', 'Yucca Valley', 'Zenia'],\n",
              "      dtype='object', length=1161)"
            ]
          },
          "metadata": {},
          "execution_count": 10
        }
      ]
    },
    {
      "cell_type": "code",
      "source": [
        "#Handling Multiple Lines values\n",
        "encoded = pd.get_dummies(df['Multiple Lines'])\n",
        "df = pd.concat((df, encoded), axis=1)\n",
        "df.drop(['Multiple Lines'], axis=1, inplace=True)\n",
        "df.rename(columns={\"No\": 'Multiple Lines No', \"No phone service\":'Multiple Lines NoPS', \"Yes\":'Multiple Lines Yes'}, inplace=True)\n",
        "df.columns"
      ],
      "metadata": {
        "colab": {
          "base_uri": "https://localhost:8080/"
        },
        "id": "Ilgye70v_cAc",
        "outputId": "38fb7eaa-b7e3-4e0d-9221-3fad2e2a8dd2"
      },
      "execution_count": 11,
      "outputs": [
        {
          "output_type": "execute_result",
          "data": {
            "text/plain": [
              "Index(['CustomerID', 'Count', 'Country', 'State', 'Zip Code', 'Lat Long',\n",
              "       'Latitude', 'Longitude', 'Tenure Months', 'Internet Service',\n",
              "       ...\n",
              "       'Yosemite National Park', 'Yountville', 'Yreka', 'Yuba City', 'Yucaipa',\n",
              "       'Yucca Valley', 'Zenia', 'Multiple Lines No', 'Multiple Lines NoPS',\n",
              "       'Multiple Lines Yes'],\n",
              "      dtype='object', length=1163)"
            ]
          },
          "metadata": {},
          "execution_count": 11
        }
      ]
    },
    {
      "cell_type": "code",
      "source": [
        "#Handling Internet Service values\n",
        "encoded = pd.get_dummies(df['Internet Service'])\n",
        "df = pd.concat((df, encoded), axis=1)\n",
        "df.drop(['Internet Service'], axis=1, inplace=True)\n",
        "df.rename(columns={\"DSL\": 'Internet Service DSL', \"Fiber optic\":'Internet Service FO', \"No\":'Internet Service No'}, inplace=True)\n",
        "df.columns"
      ],
      "metadata": {
        "colab": {
          "base_uri": "https://localhost:8080/"
        },
        "id": "o9C__ygxACe9",
        "outputId": "692f4e3f-af0a-46ac-d0fb-05bd5a26f3fa"
      },
      "execution_count": 12,
      "outputs": [
        {
          "output_type": "execute_result",
          "data": {
            "text/plain": [
              "Index(['CustomerID', 'Count', 'Country', 'State', 'Zip Code', 'Lat Long',\n",
              "       'Latitude', 'Longitude', 'Tenure Months', 'Online Security',\n",
              "       ...\n",
              "       'Yuba City', 'Yucaipa', 'Yucca Valley', 'Zenia', 'Multiple Lines No',\n",
              "       'Multiple Lines NoPS', 'Multiple Lines Yes', 'Internet Service DSL',\n",
              "       'Internet Service FO', 'Internet Service No'],\n",
              "      dtype='object', length=1165)"
            ]
          },
          "metadata": {},
          "execution_count": 12
        }
      ]
    },
    {
      "cell_type": "code",
      "source": [
        "#Handling Online Security values\n",
        "encoded = pd.get_dummies(df['Online Security'])\n",
        "df = pd.concat((df, encoded), axis=1)\n",
        "df.drop(['Online Security'], axis=1, inplace=True)\n",
        "df.rename(columns={\"No\": 'Online Security No', \"No internet service\":'Online Security NoIS', \"Yes\":'Online Security Yes'}, inplace=True)\n",
        "df.columns"
      ],
      "metadata": {
        "colab": {
          "base_uri": "https://localhost:8080/"
        },
        "id": "jS4zVO9SAYOu",
        "outputId": "45887725-8140-4411-9aa7-282ff566970d"
      },
      "execution_count": 13,
      "outputs": [
        {
          "output_type": "execute_result",
          "data": {
            "text/plain": [
              "Index(['CustomerID', 'Count', 'Country', 'State', 'Zip Code', 'Lat Long',\n",
              "       'Latitude', 'Longitude', 'Tenure Months', 'Online Backup',\n",
              "       ...\n",
              "       'Zenia', 'Multiple Lines No', 'Multiple Lines NoPS',\n",
              "       'Multiple Lines Yes', 'Internet Service DSL', 'Internet Service FO',\n",
              "       'Internet Service No', 'Online Security No', 'Online Security NoIS',\n",
              "       'Online Security Yes'],\n",
              "      dtype='object', length=1167)"
            ]
          },
          "metadata": {},
          "execution_count": 13
        }
      ]
    },
    {
      "cell_type": "code",
      "source": [
        "#Handling Online Backup values\n",
        "encoded = pd.get_dummies(df['Online Backup'])\n",
        "df = pd.concat((df, encoded), axis=1)\n",
        "df.drop(['Online Backup'], axis=1, inplace=True)\n",
        "df.rename(columns={\"No\": 'Online Backup No', \"No internet service\":'Online Backup NoIS', \"Yes\":'Online Backup Yes'}, inplace=True)\n",
        "df.columns"
      ],
      "metadata": {
        "colab": {
          "base_uri": "https://localhost:8080/"
        },
        "id": "e8BSEfebAujw",
        "outputId": "9d17a495-7791-4e25-ba83-382d0d87ceb7"
      },
      "execution_count": 14,
      "outputs": [
        {
          "output_type": "execute_result",
          "data": {
            "text/plain": [
              "Index(['CustomerID', 'Count', 'Country', 'State', 'Zip Code', 'Lat Long',\n",
              "       'Latitude', 'Longitude', 'Tenure Months', 'Device Protection',\n",
              "       ...\n",
              "       'Multiple Lines Yes', 'Internet Service DSL', 'Internet Service FO',\n",
              "       'Internet Service No', 'Online Security No', 'Online Security NoIS',\n",
              "       'Online Security Yes', 'Online Backup No', 'Online Backup NoIS',\n",
              "       'Online Backup Yes'],\n",
              "      dtype='object', length=1169)"
            ]
          },
          "metadata": {},
          "execution_count": 14
        }
      ]
    },
    {
      "cell_type": "code",
      "source": [
        "#Handling Device Protection values\n",
        "encoded = pd.get_dummies(df['Device Protection'])\n",
        "df = pd.concat((df, encoded), axis=1)\n",
        "df.drop(['Device Protection'], axis=1, inplace=True)\n",
        "df.rename(columns={\"No\": 'Device Protection No', \"No internet service\":'Device Protection NoIS', \"Yes\":'Device Protection Yes'}, inplace=True)\n",
        "df.columns"
      ],
      "metadata": {
        "colab": {
          "base_uri": "https://localhost:8080/"
        },
        "id": "83tEEJF0BBZk",
        "outputId": "b3cfd8a0-0930-4e36-f87e-40ceb935d121"
      },
      "execution_count": 15,
      "outputs": [
        {
          "output_type": "execute_result",
          "data": {
            "text/plain": [
              "Index(['CustomerID', 'Count', 'Country', 'State', 'Zip Code', 'Lat Long',\n",
              "       'Latitude', 'Longitude', 'Tenure Months', 'Tech Support',\n",
              "       ...\n",
              "       'Internet Service No', 'Online Security No', 'Online Security NoIS',\n",
              "       'Online Security Yes', 'Online Backup No', 'Online Backup NoIS',\n",
              "       'Online Backup Yes', 'Device Protection No', 'Device Protection NoIS',\n",
              "       'Device Protection Yes'],\n",
              "      dtype='object', length=1171)"
            ]
          },
          "metadata": {},
          "execution_count": 15
        }
      ]
    },
    {
      "cell_type": "code",
      "source": [
        "#Handling Tech Support values\n",
        "encoded = pd.get_dummies(df['Tech Support'])\n",
        "df = pd.concat((df, encoded), axis=1)\n",
        "df.drop(['Tech Support'], axis=1, inplace=True)\n",
        "df.rename(columns={\"No\": 'Tech Support No', \"No internet service\":'Tech Support NoIS', \"Yes\":'Tech Support Yes'}, inplace=True)\n",
        "df.columns"
      ],
      "metadata": {
        "colab": {
          "base_uri": "https://localhost:8080/"
        },
        "id": "O_ne6LfKBPDj",
        "outputId": "f00fc42b-aaf0-48c7-f272-7b86e271a850"
      },
      "execution_count": 16,
      "outputs": [
        {
          "output_type": "execute_result",
          "data": {
            "text/plain": [
              "Index(['CustomerID', 'Count', 'Country', 'State', 'Zip Code', 'Lat Long',\n",
              "       'Latitude', 'Longitude', 'Tenure Months', 'Streaming TV',\n",
              "       ...\n",
              "       'Online Security Yes', 'Online Backup No', 'Online Backup NoIS',\n",
              "       'Online Backup Yes', 'Device Protection No', 'Device Protection NoIS',\n",
              "       'Device Protection Yes', 'Tech Support No', 'Tech Support NoIS',\n",
              "       'Tech Support Yes'],\n",
              "      dtype='object', length=1173)"
            ]
          },
          "metadata": {},
          "execution_count": 16
        }
      ]
    },
    {
      "cell_type": "code",
      "source": [
        "#Handling Streaming TV values\n",
        "encoded = pd.get_dummies(df['Streaming TV'])\n",
        "df = pd.concat((df, encoded), axis=1)\n",
        "df.drop(['Streaming TV'], axis=1, inplace=True)\n",
        "df.rename(columns={\"No\": 'Streaming TV No', \"No internet service\":'Streaming TV NoIS', \"Yes\":'Streaming TV Yes'}, inplace=True)\n",
        "df.columns"
      ],
      "metadata": {
        "colab": {
          "base_uri": "https://localhost:8080/"
        },
        "id": "MIpevcH1Bxn_",
        "outputId": "8085402c-cde8-4336-8111-d0585910b452"
      },
      "execution_count": 17,
      "outputs": [
        {
          "output_type": "execute_result",
          "data": {
            "text/plain": [
              "Index(['CustomerID', 'Count', 'Country', 'State', 'Zip Code', 'Lat Long',\n",
              "       'Latitude', 'Longitude', 'Tenure Months', 'Streaming Movies',\n",
              "       ...\n",
              "       'Online Backup Yes', 'Device Protection No', 'Device Protection NoIS',\n",
              "       'Device Protection Yes', 'Tech Support No', 'Tech Support NoIS',\n",
              "       'Tech Support Yes', 'Streaming TV No', 'Streaming TV NoIS',\n",
              "       'Streaming TV Yes'],\n",
              "      dtype='object', length=1175)"
            ]
          },
          "metadata": {},
          "execution_count": 17
        }
      ]
    },
    {
      "cell_type": "code",
      "source": [
        "#Handling Streaming Movies values\n",
        "encoded = pd.get_dummies(df['Streaming Movies'])\n",
        "df = pd.concat((df, encoded), axis=1)\n",
        "df.drop(['Streaming Movies'], axis=1, inplace=True)\n",
        "df.rename(columns={\"No\": 'Streaming Movies No', \"No internet service\":'Streaming Movies NoIS', \"Yes\":'Streaming Movies Yes'}, inplace=True)\n",
        "df.columns"
      ],
      "metadata": {
        "colab": {
          "base_uri": "https://localhost:8080/"
        },
        "id": "FlV8jDQGB9ur",
        "outputId": "07a287aa-9800-4fa2-c639-018e3611eaec"
      },
      "execution_count": 18,
      "outputs": [
        {
          "output_type": "execute_result",
          "data": {
            "text/plain": [
              "Index(['CustomerID', 'Count', 'Country', 'State', 'Zip Code', 'Lat Long',\n",
              "       'Latitude', 'Longitude', 'Tenure Months', 'Contract',\n",
              "       ...\n",
              "       'Device Protection Yes', 'Tech Support No', 'Tech Support NoIS',\n",
              "       'Tech Support Yes', 'Streaming TV No', 'Streaming TV NoIS',\n",
              "       'Streaming TV Yes', 'Streaming Movies No', 'Streaming Movies NoIS',\n",
              "       'Streaming Movies Yes'],\n",
              "      dtype='object', length=1177)"
            ]
          },
          "metadata": {},
          "execution_count": 18
        }
      ]
    },
    {
      "cell_type": "code",
      "source": [
        "#Handling Contract values\n",
        "encoded = pd.get_dummies(df['Contract'])\n",
        "df = pd.concat((df, encoded), axis=1)\n",
        "df.drop(['Contract'], axis=1, inplace=True)\n",
        "df.rename(columns={\"Month-to-month\": 'Contract MtM', \"One year\":'Contract OneY', \"Two year\":'ContractTwoY'}, inplace=True)\n",
        "df.columns"
      ],
      "metadata": {
        "colab": {
          "base_uri": "https://localhost:8080/"
        },
        "id": "0XQCu-ZtCQbW",
        "outputId": "e95e0f88-17f9-4b42-cc4c-f3134bf6ea66"
      },
      "execution_count": 19,
      "outputs": [
        {
          "output_type": "execute_result",
          "data": {
            "text/plain": [
              "Index(['CustomerID', 'Count', 'Country', 'State', 'Zip Code', 'Lat Long',\n",
              "       'Latitude', 'Longitude', 'Tenure Months', 'Payment Method',\n",
              "       ...\n",
              "       'Tech Support Yes', 'Streaming TV No', 'Streaming TV NoIS',\n",
              "       'Streaming TV Yes', 'Streaming Movies No', 'Streaming Movies NoIS',\n",
              "       'Streaming Movies Yes', 'Contract MtM', 'Contract OneY',\n",
              "       'ContractTwoY'],\n",
              "      dtype='object', length=1179)"
            ]
          },
          "metadata": {},
          "execution_count": 19
        }
      ]
    },
    {
      "cell_type": "code",
      "source": [
        "#Handling Payment Method values\n",
        "encoded = pd.get_dummies(df['Payment Method'])\n",
        "df = pd.concat((df, encoded), axis=1)\n",
        "df.drop(['Payment Method'], axis=1, inplace=True)\n",
        "df.rename(columns={\"Bank transfer (automatic)\": 'Payment Method BT', \"Credit card (automatic)\":'Payment Method CC', \"Electronic check\":'Payment Method EC', \"Mailed check\":'Payment Method MC'}, inplace=True)\n",
        "df.columns"
      ],
      "metadata": {
        "colab": {
          "base_uri": "https://localhost:8080/"
        },
        "id": "OTHvjRywDBG-",
        "outputId": "64f3264c-7d22-4618-d49c-504d5af97c57"
      },
      "execution_count": 20,
      "outputs": [
        {
          "output_type": "execute_result",
          "data": {
            "text/plain": [
              "Index(['CustomerID', 'Count', 'Country', 'State', 'Zip Code', 'Lat Long',\n",
              "       'Latitude', 'Longitude', 'Tenure Months', 'Monthly Charges',\n",
              "       ...\n",
              "       'Streaming Movies No', 'Streaming Movies NoIS', 'Streaming Movies Yes',\n",
              "       'Contract MtM', 'Contract OneY', 'ContractTwoY', 'Payment Method BT',\n",
              "       'Payment Method CC', 'Payment Method EC', 'Payment Method MC'],\n",
              "      dtype='object', length=1182)"
            ]
          },
          "metadata": {},
          "execution_count": 20
        }
      ]
    },
    {
      "cell_type": "code",
      "source": [
        "#Type casting\n",
        "#\"Latitude\":'float64', \"Longitude\":'float64'\n",
        "#\"Monthly Charges\":'float64', \"Total Charges\":'float64'\n",
        "df = df.astype({\"Zip Code\":'int64', \"Tenure Months\":'int64'})"
      ],
      "metadata": {
        "id": "HwyXQamcEQbW"
      },
      "execution_count": 21,
      "outputs": []
    },
    {
      "cell_type": "code",
      "source": [
        "#creating X and y \n",
        "X=df.drop(['CustomerID', 'Count', 'Country', 'State', 'Lat Long', 'Churn Value', 'Churn Label', 'Churn Score', 'CLTV', 'Churn Reason'],axis=1)\n",
        "y=df['Churn Value']\n",
        "\n",
        "#split into train and test sets\n",
        "X_train, X_test, y_train, y_test= train_test_split(X,y, test_size=0.2, random_state=42)\n",
        "X_train.shape, X_test.shape,y_train.shape, y_test.shape"
      ],
      "metadata": {
        "colab": {
          "base_uri": "https://localhost:8080/"
        },
        "id": "7F3r6IADxT9c",
        "outputId": "860ce3d7-1be3-4aea-b154-a439e3ff05e4"
      },
      "execution_count": 22,
      "outputs": [
        {
          "output_type": "execute_result",
          "data": {
            "text/plain": [
              "((5634, 1172), (1409, 1172), (5634,), (1409,))"
            ]
          },
          "metadata": {},
          "execution_count": 22
        }
      ]
    },
    {
      "cell_type": "code",
      "source": [
        "df['Churn Value'].value_counts()"
      ],
      "metadata": {
        "colab": {
          "base_uri": "https://localhost:8080/"
        },
        "id": "4hJbO02ixOrt",
        "outputId": "cc21be8a-0dd7-4608-ed82-02738a392613"
      },
      "execution_count": 23,
      "outputs": [
        {
          "output_type": "execute_result",
          "data": {
            "text/plain": [
              "0    5174\n",
              "1    1869\n",
              "Name: Churn Value, dtype: int64"
            ]
          },
          "metadata": {},
          "execution_count": 23
        }
      ]
    },
    {
      "cell_type": "code",
      "source": [
        "automl1 = autosklearn.classification.AutoSklearnClassifier(\n",
        "    time_left_for_this_task=10*60,\n",
        "    per_run_time_limit=50,\n",
        "    tmp_folder='/temp/classification')\n",
        "automl1.fit(X_train, y_train)\n",
        "print(automl1.sprint_statistics())\n",
        "print(automl1.leaderboard())\n",
        "# print(automl.show_models())"
      ],
      "metadata": {
        "colab": {
          "base_uri": "https://localhost:8080/"
        },
        "id": "vSKoIenMM659",
        "outputId": "d408496e-93c1-47f0-eab7-a95f8201f9ea"
      },
      "execution_count": 29,
      "outputs": [
        {
          "output_type": "stream",
          "name": "stderr",
          "text": [
            "/usr/local/lib/python3.8/dist-packages/autosklearn/data/feature_validator.py:318: UserWarning: Input Column Total Charges has generic type object. Autosklearn will treat this column as string. Please ensure that this setting is suitable for your task.\n",
            "  warnings.warn(\n"
          ]
        },
        {
          "output_type": "stream",
          "name": "stdout",
          "text": [
            "auto-sklearn results:\n",
            "  Dataset name: 5e4b7054-b4dc-11ed-bfbc-0242ac1c000c\n",
            "  Metric: accuracy\n",
            "  Best validation score: 0.802688\n",
            "  Number of target algorithm runs: 17\n",
            "  Number of successful target algorithm runs: 8\n",
            "  Number of crashed target algorithm runs: 0\n",
            "  Number of target algorithms that exceeded the time limit: 5\n",
            "  Number of target algorithms that exceeded the memory limit: 4\n",
            "\n",
            "          rank  ensemble_weight               type      cost   duration\n",
            "model_id                                                               \n",
            "16           1             0.26  gradient_boosting  0.197312  11.674278\n",
            "6            2             0.16  gradient_boosting  0.203226  17.787648\n",
            "3            3             0.06      random_forest  0.212903  48.934574\n",
            "11           4             0.22      random_forest  0.212903  41.829784\n",
            "9            5             0.10                lda  0.224194  30.875387\n",
            "13           6             0.20        extra_trees  0.244086   8.836095\n"
          ]
        }
      ]
    },
    {
      "cell_type": "markdown",
      "source": [
        "Comments: More the search time and run time, better are the chances of finding models with improved performance"
      ],
      "metadata": {
        "id": "esH7mCIXSP-R"
      }
    },
    {
      "cell_type": "code",
      "source": [
        "automl3 = autosklearn.classification.AutoSklearnClassifier(\n",
        "    time_left_for_this_task=10*60,\n",
        "    per_run_time_limit=50,\n",
        "    tmp_folder='/temp/classification',\n",
        "    ensemble_kwargs={\"ensemble_size\": 1})\n",
        "automl3.fit(X_train, y_train)\n",
        "print(automl3.sprint_statistics())\n",
        "print(automl3.leaderboard())"
      ],
      "metadata": {
        "colab": {
          "base_uri": "https://localhost:8080/"
        },
        "id": "0bBw2RkviD8n",
        "outputId": "7b81b1fc-24fe-4d8e-e748-180ac09342d6"
      },
      "execution_count": 31,
      "outputs": [
        {
          "output_type": "stream",
          "name": "stderr",
          "text": [
            "/usr/local/lib/python3.8/dist-packages/autosklearn/data/feature_validator.py:318: UserWarning: Input Column Total Charges has generic type object. Autosklearn will treat this column as string. Please ensure that this setting is suitable for your task.\n",
            "  warnings.warn(\n"
          ]
        },
        {
          "output_type": "stream",
          "name": "stdout",
          "text": [
            "auto-sklearn results:\n",
            "  Dataset name: b4c07993-b4e0-11ed-bfbc-0242ac1c000c\n",
            "  Metric: accuracy\n",
            "  Best validation score: 0.802688\n",
            "  Number of target algorithm runs: 17\n",
            "  Number of successful target algorithm runs: 8\n",
            "  Number of crashed target algorithm runs: 0\n",
            "  Number of target algorithms that exceeded the time limit: 5\n",
            "  Number of target algorithms that exceeded the memory limit: 4\n",
            "\n",
            "          rank  ensemble_weight               type      cost   duration\n",
            "model_id                                                               \n",
            "16           1              1.0  gradient_boosting  0.197312  16.646359\n"
          ]
        }
      ]
    },
    {
      "cell_type": "code",
      "source": [
        "automl2 = autosklearn.classification.AutoSklearnClassifier(\n",
        "    time_left_for_this_task=10*60,\n",
        "    per_run_time_limit=50,\n",
        "    tmp_folder='/temp/classification',\n",
        "    ensemble_kwargs={\"ensemble_size\": 1},\n",
        "    initial_configurations_via_metalearning=0)\n",
        "automl2.fit(X_train, y_train)\n",
        "print(automl2.sprint_statistics())\n",
        "print(automl2.leaderboard())"
      ],
      "metadata": {
        "colab": {
          "base_uri": "https://localhost:8080/"
        },
        "id": "2peN1Co4d_Bh",
        "outputId": "cf225d86-2563-4a65-c981-db26f80fadc3"
      },
      "execution_count": 30,
      "outputs": [
        {
          "output_type": "stream",
          "name": "stderr",
          "text": [
            "/usr/local/lib/python3.8/dist-packages/autosklearn/data/feature_validator.py:318: UserWarning: Input Column Total Charges has generic type object. Autosklearn will treat this column as string. Please ensure that this setting is suitable for your task.\n",
            "  warnings.warn(\n"
          ]
        },
        {
          "output_type": "stream",
          "name": "stdout",
          "text": [
            "auto-sklearn results:\n",
            "  Dataset name: 0fbde801-b4de-11ed-bfbc-0242ac1c000c\n",
            "  Metric: accuracy\n",
            "  Best validation score: 0.803226\n",
            "  Number of target algorithm runs: 50\n",
            "  Number of successful target algorithm runs: 14\n",
            "  Number of crashed target algorithm runs: 34\n",
            "  Number of target algorithms that exceeded the time limit: 1\n",
            "  Number of target algorithms that exceeded the memory limit: 1\n",
            "\n",
            "          rank  ensemble_weight type      cost   duration\n",
            "model_id                                                 \n",
            "24           1              1.0  sgd  0.196774  16.948653\n"
          ]
        }
      ]
    },
    {
      "cell_type": "markdown",
      "source": [
        "Inference: AutoML2 with no ensemble SGD model has better performance, considering validation score as a metric"
      ],
      "metadata": {
        "id": "t9c2kjpSlfZe"
      }
    },
    {
      "cell_type": "code",
      "source": [
        "from sklearn.metrics import confusion_matrix, accuracy_score\n",
        "y_pred= automl2.predict(X_test)\n",
        "\n",
        "# Score of the final ensemble\n",
        "from sklearn.metrics import accuracy_score\n",
        "m1_acc_score= accuracy_score(y_test, y_pred)\n",
        "m1_acc_score"
      ],
      "metadata": {
        "colab": {
          "base_uri": "https://localhost:8080/"
        },
        "id": "WdhEedPQ1MzY",
        "outputId": "425c8bfd-26b6-47b4-8a87-d429d48020a9"
      },
      "execution_count": 32,
      "outputs": [
        {
          "output_type": "execute_result",
          "data": {
            "text/plain": [
              "0.8048261178140526"
            ]
          },
          "metadata": {},
          "execution_count": 32
        }
      ]
    },
    {
      "cell_type": "code",
      "source": [
        "conf_matrix= confusion_matrix(y_pred, y_test)\n",
        "sns.heatmap(conf_matrix, annot=True)"
      ],
      "metadata": {
        "colab": {
          "base_uri": "https://localhost:8080/",
          "height": 286
        },
        "id": "9lQS3XlL1cCS",
        "outputId": "15161953-825d-4531-e8c9-2eba7c8325c1"
      },
      "execution_count": 33,
      "outputs": [
        {
          "output_type": "execute_result",
          "data": {
            "text/plain": [
              "<AxesSubplot:>"
            ]
          },
          "metadata": {},
          "execution_count": 33
        },
        {
          "output_type": "display_data",
          "data": {
            "text/plain": [
              "<Figure size 432x288 with 2 Axes>"
            ],
            "image/png": "[encoded data removed]"
          },
          "metadata": {
            "needs_background": "light"
          }
        }
      ]
    },
    {
      "cell_type": "code",
      "source": [
        "#Handling oversampling and undersampling\n",
        "from sklearn.utils import resample\n",
        "healthy= df[df[\"Churn Value\"]==0]\n",
        "unhealthy=df[df[\"Churn Value\"]==1]\n",
        "\n",
        "up_sampled=resample(healthy, replace=True, n_samples=len(unhealthy), random_state=42)\n",
        "up_sampled=pd.concat([unhealthy, up_sampled])\n",
        "#check updated class counts\n",
        "up_sampled['Churn Value'].value_counts()"
      ],
      "metadata": {
        "colab": {
          "base_uri": "https://localhost:8080/"
        },
        "id": "YiBEiLDN1giv",
        "outputId": "595dddfc-614e-4ad4-c247-5403e44d88af"
      },
      "execution_count": 34,
      "outputs": [
        {
          "output_type": "execute_result",
          "data": {
            "text/plain": [
              "1    1869\n",
              "0    1869\n",
              "Name: Churn Value, dtype: int64"
            ]
          },
          "metadata": {},
          "execution_count": 34
        }
      ]
    },
    {
      "cell_type": "code",
      "source": [
        "#creating X and y \n",
        "X2=df.drop(['CustomerID', 'Count', 'Country', 'State', 'Lat Long', 'Churn Value', 'Churn Label', 'Churn Score', 'CLTV', 'Churn Reason'],axis=1)\n",
        "y2=df['Churn Value']\n",
        "\n",
        "#split into train and test sets\n",
        "X2_train, X2_test, y2_train, y2_test= train_test_split(X2,y2, test_size=0.2, random_state=42)\n",
        "X2_train.shape, X2_test.shape,y2_train.shape, y2_test.shape"
      ],
      "metadata": {
        "colab": {
          "base_uri": "https://localhost:8080/"
        },
        "id": "HqQUiaS2myOM",
        "outputId": "7cde8da4-5c10-43a9-fe0e-372784e216a7"
      },
      "execution_count": 35,
      "outputs": [
        {
          "output_type": "execute_result",
          "data": {
            "text/plain": [
              "((5634, 1172), (1409, 1172), (5634,), (1409,))"
            ]
          },
          "metadata": {},
          "execution_count": 35
        }
      ]
    },
    {
      "cell_type": "code",
      "source": [
        "automl4 = autosklearn.classification.AutoSklearnClassifier(\n",
        "    time_left_for_this_task=10*60,\n",
        "    per_run_time_limit=50,\n",
        "    tmp_folder='/temp/classification')\n",
        "automl4.fit(X2_train, y2_train)\n",
        "print(automl4.sprint_statistics())\n",
        "print(automl4.leaderboard())\n",
        "# print(automl.show_models())"
      ],
      "metadata": {
        "colab": {
          "base_uri": "https://localhost:8080/"
        },
        "id": "fdGGtVgUm7E9",
        "outputId": "0bf1f74d-23e3-4de9-cdb6-782aa6e8cdc9"
      },
      "execution_count": 36,
      "outputs": [
        {
          "output_type": "stream",
          "name": "stderr",
          "text": [
            "/usr/local/lib/python3.8/dist-packages/autosklearn/data/feature_validator.py:318: UserWarning: Input Column Total Charges has generic type object. Autosklearn will treat this column as string. Please ensure that this setting is suitable for your task.\n",
            "  warnings.warn(\n"
          ]
        },
        {
          "output_type": "stream",
          "name": "stdout",
          "text": [
            "auto-sklearn results:\n",
            "  Dataset name: 6ee6ef62-b4e3-11ed-bfbc-0242ac1c000c\n",
            "  Metric: accuracy\n",
            "  Best validation score: 0.802688\n",
            "  Number of target algorithm runs: 17\n",
            "  Number of successful target algorithm runs: 7\n",
            "  Number of crashed target algorithm runs: 0\n",
            "  Number of target algorithms that exceeded the time limit: 6\n",
            "  Number of target algorithms that exceeded the memory limit: 4\n",
            "\n",
            "          rank  ensemble_weight               type      cost   duration\n",
            "model_id                                                               \n",
            "16           1             0.18  gradient_boosting  0.197312  12.059726\n",
            "6            2             0.20  gradient_boosting  0.203226  17.272028\n",
            "11           3             0.04      random_forest  0.212903  43.899666\n",
            "9            4             0.38                lda  0.224194  30.414040\n",
            "13           5             0.20        extra_trees  0.244086   9.968712\n"
          ]
        }
      ]
    },
    {
      "cell_type": "code",
      "source": [
        "automl5 = autosklearn.classification.AutoSklearnClassifier(\n",
        "    time_left_for_this_task=10*60,\n",
        "    per_run_time_limit=50,\n",
        "    tmp_folder='/temp/classification',\n",
        "    ensemble_kwargs={\"ensemble_size\": 1})\n",
        "automl5.fit(X2_train, y2_train)\n",
        "print(automl5.sprint_statistics())\n",
        "print(automl5.leaderboard())"
      ],
      "metadata": {
        "colab": {
          "base_uri": "https://localhost:8080/"
        },
        "id": "TZRs0HGmnL6c",
        "outputId": "fb520f9b-0387-40b5-f5d6-c36209137c46"
      },
      "execution_count": 37,
      "outputs": [
        {
          "output_type": "stream",
          "name": "stderr",
          "text": [
            "/usr/local/lib/python3.8/dist-packages/autosklearn/data/feature_validator.py:318: UserWarning: Input Column Total Charges has generic type object. Autosklearn will treat this column as string. Please ensure that this setting is suitable for your task.\n",
            "  warnings.warn(\n"
          ]
        },
        {
          "output_type": "stream",
          "name": "stdout",
          "text": [
            "auto-sklearn results:\n",
            "  Dataset name: e78885b4-b4e4-11ed-bfbc-0242ac1c000c\n",
            "  Metric: accuracy\n",
            "  Best validation score: 0.802688\n",
            "  Number of target algorithm runs: 17\n",
            "  Number of successful target algorithm runs: 8\n",
            "  Number of crashed target algorithm runs: 0\n",
            "  Number of target algorithms that exceeded the time limit: 5\n",
            "  Number of target algorithms that exceeded the memory limit: 4\n",
            "\n",
            "          rank  ensemble_weight               type      cost   duration\n",
            "model_id                                                               \n",
            "16           1              1.0  gradient_boosting  0.197312  13.557859\n"
          ]
        }
      ]
    },
    {
      "cell_type": "code",
      "source": [
        "automl6 = autosklearn.classification.AutoSklearnClassifier(\n",
        "    time_left_for_this_task=10*60,\n",
        "    per_run_time_limit=50,\n",
        "    tmp_folder='/temp/classification',\n",
        "    ensemble_kwargs={\"ensemble_size\": 1},\n",
        "    initial_configurations_via_metalearning=0)\n",
        "automl6.fit(X_train, y_train)\n",
        "print(automl6.sprint_statistics())\n",
        "print(automl6.leaderboard())"
      ],
      "metadata": {
        "colab": {
          "base_uri": "https://localhost:8080/"
        },
        "id": "s6R11RpdnZpt",
        "outputId": "ad9db802-478e-4b5a-efe3-4035685bd0cf"
      },
      "execution_count": 38,
      "outputs": [
        {
          "output_type": "stream",
          "name": "stderr",
          "text": [
            "/usr/local/lib/python3.8/dist-packages/autosklearn/data/feature_validator.py:318: UserWarning: Input Column Total Charges has generic type object. Autosklearn will treat this column as string. Please ensure that this setting is suitable for your task.\n",
            "  warnings.warn(\n"
          ]
        },
        {
          "output_type": "stream",
          "name": "stdout",
          "text": [
            "auto-sklearn results:\n",
            "  Dataset name: 0f5fae11-b4e9-11ed-bfbc-0242ac1c000c\n",
            "  Metric: accuracy\n",
            "  Best validation score: 0.803226\n",
            "  Number of target algorithm runs: 50\n",
            "  Number of successful target algorithm runs: 14\n",
            "  Number of crashed target algorithm runs: 34\n",
            "  Number of target algorithms that exceeded the time limit: 1\n",
            "  Number of target algorithms that exceeded the memory limit: 1\n",
            "\n",
            "          rank  ensemble_weight type      cost   duration\n",
            "model_id                                                 \n",
            "24           1              1.0  sgd  0.196774  15.866233\n"
          ]
        }
      ]
    },
    {
      "cell_type": "code",
      "source": [
        "from sklearn.metrics import confusion_matrix, accuracy_score\n",
        "y_pred= automl6.predict(X_test)\n",
        "\n",
        "# Score of the final ensemble\n",
        "from sklearn.metrics import accuracy_score\n",
        "m2_acc_score= accuracy_score(y_test, y_pred)\n",
        "m2_acc_score"
      ],
      "metadata": {
        "colab": {
          "base_uri": "https://localhost:8080/"
        },
        "id": "GXqhFd7p1J1g",
        "outputId": "2aa78333-2684-483f-cb79-dd6dfe97f7dc"
      },
      "execution_count": 39,
      "outputs": [
        {
          "output_type": "execute_result",
          "data": {
            "text/plain": [
              "0.8048261178140526"
            ]
          },
          "metadata": {},
          "execution_count": 39
        }
      ]
    },
    {
      "cell_type": "code",
      "source": [
        "model_eval = pd.DataFrame({'Model': ['skewed','adjusted'], 'Accuracy': [m1_acc_score,m2_acc_score]})\n",
        "model_eval = model_eval.set_index('Model').sort_values(by='Accuracy',ascending=False)\n",
        "fig = plt.figure(figsize=(12, 4))\n",
        "gs = fig.add_gridspec(1, 2)\n",
        "gs.update(wspace=0.8, hspace=0.8)\n",
        "ax0 = fig.add_subplot(gs[0, 0])\n",
        "sns.heatmap(model_eval,cmap=\"PiYG\",annot=True,fmt=\".1%\", linewidths=4,cbar=False,ax=ax0)\n",
        "plt.show()"
      ],
      "metadata": {
        "colab": {
          "base_uri": "https://localhost:8080/",
          "height": 265
        },
        "id": "mC6i93YRwZ13",
        "outputId": "fc3754c0-dab0-4b7a-af17-cda0c35f65fa"
      },
      "execution_count": 40,
      "outputs": [
        {
          "output_type": "display_data",
          "data": {
            "text/plain": [
              "<Figure size 864x288 with 1 Axes>"
            ],
            "image/png": "[encoded data removed]"
          },
          "metadata": {
            "needs_background": "light"
          }
        }
      ]
    },
    {
      "cell_type": "markdown",
      "source": [
        "There's no effect on over/undersampling on this dataset"
      ],
      "metadata": {
        "id": "BaM8Gv1p1XLX"
      }
    },
    {
      "cell_type": "code",
      "source": [
        "import pickle\n",
        "# save the model \n",
        "filename = '/content/mydrive/MyDrive/AutoML/churn_model.sav' \n",
        "pickle.dump(automl2, open(filename, 'wb'))"
      ],
      "metadata": {
        "id": "VtfcCQfG1W69"
      },
      "execution_count": 42,
      "outputs": []
    },
    {
      "cell_type": "code",
      "source": [
        "#load the model\n",
        "loaded_model = pickle.load(open(filename, 'rb'))\n",
        "result = loaded_model.score(X_test, y_test)\n",
        "print(result)"
      ],
      "metadata": {
        "colab": {
          "base_uri": "https://localhost:8080/"
        },
        "id": "ViAzdocx1Uu5",
        "outputId": "acf11f80-906b-4ad0-ac89-e8ec3331813c"
      },
      "execution_count": 43,
      "outputs": [
        {
          "output_type": "stream",
          "name": "stdout",
          "text": [
            "0.8048261178140526\n"
          ]
        }
      ]
    },
    {
      "cell_type": "code",
      "source": [],
      "metadata": {
        "id": "chMgCK252SDq"
      },
      "execution_count": null,
      "outputs": []
    }
  ]
}